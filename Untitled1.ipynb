{
  "nbformat": 4,
  "nbformat_minor": 0,
  "metadata": {
    "colab": {
      "provenance": [],
      "authorship_tag": "ABX9TyNwtL7BRJHmp7MpI8EQFI31",
      "include_colab_link": true
    },
    "kernelspec": {
      "name": "python3",
      "display_name": "Python 3"
    },
    "language_info": {
      "name": "python"
    }
  },
  "cells": [
    {
      "cell_type": "markdown",
      "metadata": {
        "id": "view-in-github",
        "colab_type": "text"
      },
      "source": [
        "<a href=\"https://colab.research.google.com/github/jaekyungHUFS/python/blob/main/Untitled1.ipynb\" target=\"_parent\"><img src=\"https://colab.research.google.com/assets/colab-badge.svg\" alt=\"Open In Colab\"/></a>"
      ]
    },
    {
      "cell_type": "code",
      "execution_count": null,
      "metadata": {
        "id": "TUzQg0paGGhK",
        "colab": {
          "base_uri": "https://localhost:8080/"
        },
        "outputId": "e68dd590-90d4-4ec6-a0a9-25acfaeeb017"
      },
      "outputs": [
        {
          "output_type": "stream",
          "name": "stdout",
          "text": [
            "자연수 한 개를 입력하세요.12\n",
            "계속 입력을 원하시면, 자연수 한 개를 입력하시고, 아니라면 0을 입력하세요.7\n",
            "계속 입력을 원하시면, 자연수 한 개를 입력하시고, 아니라면 0을 입력하세요.3\n",
            "계속 입력을 원하시면, 자연수 한 개를 입력하시고, 아니라면 0을 입력하세요.3\n",
            "계속 입력을 원하시면, 자연수 한 개를 입력하시고, 아니라면 0을 입력하세요.15\n",
            "계속 입력을 원하시면, 자연수 한 개를 입력하시고, 아니라면 0을 입력하세요.0\n",
            "당신이 입력한 숫자는 큰 것부터 순서대로 말한다면 아래와 같습니다.\n",
            "15\n",
            "12\n",
            "7\n",
            "3\n",
            "3\n"
          ]
        }
      ],
      "source": [
        "#202201486 박재경\n",
        "##1\n",
        "list=[]\n",
        "a=int(input('자연수 한 개를 입력하세요.'))\n",
        "list.append(a)\n",
        "\n",
        "\n",
        "while True:\n",
        "  b=int(input(\"계속 입력을 원하시면, 자연수 한 개를 입력하시고, 아니라면 0을 입력하세요.\"))\n",
        "  list.append(b)\n",
        "\n",
        "  if b==0:\n",
        "    list.remove(0)\n",
        "    break\n",
        "  elif len(list)==100:\n",
        "    print('이제 그만하세요 벌써 100개를 입력했어요.')\n",
        "    break1\n",
        "\n",
        "\n",
        "\n",
        "print('당신이 입력한 숫자는 큰 것부터 순서대로 말한다면 아래와 같습니다.')\n",
        "while len(list)>0:\n",
        "  m=max(list)\n",
        "  list.remove(m)\n",
        "  print(m)"
      ]
    },
    {
      "cell_type": "code",
      "source": [
        "#202201486 박재경\n",
        "##2\n",
        "\n",
        "a=int(input())\n",
        "list=[1,2, 3,4, 5, 6, 7, 8, 9, 10, 11, 12, 13, 14 ,15, 16, 17, 18, 19, 20, 21, 22, 23, 24, 25, 26, 27, 28, 29, 30]\n",
        "B=list[0:a]\n",
        "\n",
        "if a<=30:\n",
        "  for b in B:\n",
        "    n=1\n",
        "    while n<=b:\n",
        "      if n<b:\n",
        "        n+=1\n",
        "        print('*', end='')\n",
        "\n",
        "      elif n==b:\n",
        "        print(b)\n",
        "        break\n",
        "\n",
        "elif a>30:\n",
        "  print('너무 많다')\n"
      ],
      "metadata": {
        "colab": {
          "base_uri": "https://localhost:8080/"
        },
        "id": "7FmuZTxlWwMy",
        "outputId": "99faf387-51cd-446d-b09b-a53ce81afdd8"
      },
      "execution_count": null,
      "outputs": [
        {
          "output_type": "stream",
          "name": "stdout",
          "text": [
            "31\n",
            "너무 많다\n"
          ]
        }
      ]
    }
  ]
}